{
 "cells": [
  {
   "cell_type": "code",
   "execution_count": 4,
   "metadata": {},
   "outputs": [],
   "source": [
    "from IPython.display import display\n",
    "import autograd\n",
    "import numpy as np\n",
    "# Pandas\n",
    "import pandas as pd\n",
    "\n",
    "# Matplotlib\n",
    "import matplotlib as mpl\n",
    "import matplotlib.pyplot as plt\n",
    "plt.rcParams['figure.figsize'] = [10, 10]  # [width, height] (inches).\n"
   ]
  },
  {
   "cell_type": "code",
   "execution_count": 2,
   "metadata": {},
   "outputs": [],
   "source": [
    "def grad(f):\n",
    "    g = autograd.grad\n",
    "\n",
    "    def grad_f(x, y):\n",
    "        return np.array([g(f, 0)(x, y), g(f, 1)(x, y)])\n",
    "    return grad_f\n",
    "\n",
    "\n",
    "def J(f):\n",
    "    j = autograd.jacobian\n",
    "\n",
    "    def J_f(x, y):\n",
    "        return np.array([j(f, 0)(x, y), j(f, 1)(x, y)]).T\n",
    "    return J_f\n"
   ]
  },
  {
   "cell_type": "code",
   "execution_count": 3,
   "metadata": {},
   "outputs": [],
   "source": [
    "def Newton(F, x0, y0, eps, N):\n",
    "    M = np.array([x0, y0])\n",
    "    x, y = x0, y0\n",
    "    T = J(F)\n",
    "    for i in range(N):\n",
    "        M = M-np.dot(np.linalg.inv(T(x, y)), F(x, y))\n",
    "        x, y = M[0], M[1]\n",
    "        if np.sqrt((x - x0)**2 + (y - y0)**2) <= eps:\n",
    "            return np.array([x, y])\n",
    "        x0,y0=x,y\n",
    "\n",
    "    else:\n",
    "        raise ValueError(f\"no convergence in {N} steps.\")"
   ]
  },
  {
   "cell_type": "markdown",
   "metadata": {},
   "source": [
    "Question 1)\n",
    "Notons X l'ensemble de niveau $c$ de $f$. D'une part, comme $f$ et continue, et puisque $X=f^{-1}\\{c\\}$, $X$ est fermé.\n",
    "D'autre part, comme $\\lim_{\\|x\\| \\to +\\infty} \\|f(x)\\|=+\\infty$, si X est nécessairement borné. En effet, dans le cas contraire, on trouve $M>0$ tel que $\\forall x$ vérifiant $\\|x\\|>M$ on ait $\\|f(x)\\|>c+1$ et comme X est supposé non borné, on trouve $x\\in X $ qui vérifie $ \\|x\\|>M$, d'où la contradiction par définition de X. Puisqu'on est en dimension finie, X est compact en tant que fermé et borné.\n"
   ]
  },
  {
   "cell_type": "markdown",
   "metadata": {},
   "source": [
    "Question 2)\n",
    "\n",
    "On pose $\\begin{equation}\\theta = \\frac{\\nabla f_{x_{0}}}{\\|\\nabla f_{x_{0}}\\|} \\end{equation}$\n",
    "\n",
    "Et $v=R\\theta$ \n",
    "\n",
    "Avec $R=\\begin{pmatrix}\n",
    "   0 & 1 \\\\\n",
    "   -1 & 0 \n",
    "\\end{pmatrix}$ la rotation de $\\frac{\\pi}{2}$\n",
    "\n",
    "\n",
    "Alors $(\\theta,v)$ est une base orthonormée. \n",
    "Et pour $x\\in\\mathbb{R}^{2}$:\n",
    "\n",
    "$$<x-x_{0},v>= \\frac{\\partial_{1}f(x_{0})}{\\|\\nabla f_{x_{0}}\\|}(x_{1}-x_{01})-\\frac{\\partial_{2}f(x_{0})}{\\|\\nabla f_{x_{0}}\\|}(x_{2}-x_{02})=p(x)$$\n",
    "\n",
    "Donc $p(x)$ est la coordonée de $x-x_{0}$ selon $v$ dans la base orthonormée $(\\theta,v)$\n"
   ]
  },
  {
   "cell_type": "markdown",
   "metadata": {},
   "source": [
    "Question 3)  \n",
    " \n",
    " On pose $\\begin{equation}\\theta = \\frac{\\nabla f_{x_{0}}}{\\|\\nabla f_{x_{0}}\\|} \\end{equation}$\n",
    " \n",
    " Soit $v \\in\\mathbb{R}^{2}$ tel que $(v,\\theta$) soit une base orthonormée.\n",
    " \n",
    " Pour $x \\in\\mathbb{R}^{2}$ en vertu de Q2), on peut écrire $$x-x_{0} = p(x)v + \\alpha(x)\\theta$$ (avec $\\alpha = \\theta^{*}$)  \n",
    " \n",
    " On a de plus $$f(x)=c\\Leftrightarrow f(p(x)v + \\alpha(x)\\theta +x_{0}) - c=0$$\n",
    " \n",
    " Cette expression est continûment différentiable par rapport au couple $(p(x),\\alpha(x))$ et pour $h\\in\\mathbb{R}$,\n",
    " \n",
    " $\\partial_{\\alpha}(f(p(x)v+\\alpha (x)\\theta +x_{0})-c).h$ \n",
    " \n",
    " = $df(f(p(x)v+\\alpha (x)\\theta +x_{0}).\\theta h$\n",
    " \n",
    " =$ <h\\frac{\\nabla f_{x_{0}}}{\\|\\nabla f_{x_{0}}\\|},\\nabla f_{x}>$\n",
    " \n",
    " En particulier, $\\partial_{\\alpha}f(x_{0})=(h\\to \\|\\nabla f_{x_{0}}\\|h)$  est inversible car $\\|\\nabla f_{x_{0}}\\|\\ne 0$\n",
    " \n",
    " D'après le théorème des fonctions implicites, il existe $\\epsilon>0$ et $\\psi : ]-\\epsilon,+\\epsilon[\\to\\mathbb{R}$ continûment différentiable tel que:\n",
    " \n",
    " $$ \\forall x \\in B(x_{0},\\epsilon),  f(x)=c\\Leftrightarrow \\alpha(x)=\\psi(p(x))$$\n",
    " \n",
    " On a le résultat cherché en posant :\n",
    "\n",
    "$\\begin{array}{ccccc}\n",
    "\\gamma & : & ]-\\epsilon,+\\epsilon[\\to\\mathbb{R}^{2}\\\\\n",
    " & &t& \\mapsto& tv +\\psi(t)\\theta \\\\\n",
    "\\end{array}$\n",
    " \n",
    "qui est continûment différentiable. \n",
    "\n"
   ]
  },
  {
   "cell_type": "markdown",
   "metadata": {},
   "source": [
    "Question 4)\n",
    "\n",
    "Pour $t\\in ]-\\epsilon,+\\epsilon[$ on a:\n",
    "\n",
    "$\\gamma'(t) = v + \\psi'(t)\\theta \\ne 0$ car $(v,\\theta)$ est libre\n",
    "\n",
    "De plus, on a:\n",
    "$$\\forall t \\in ]-\\epsilon,+\\epsilon[,f(\\gamma(t))=c$$\n",
    "\n",
    "D'où en dérivant\n",
    "\n",
    "$$\\forall t \\in ]-\\epsilon,+\\epsilon[, df(\\gamma(t)).\\gamma'(t)=0$$\n",
    "\n",
    "Soit finalement $$<\\gamma'(t),\\nabla f(\\gamma(t))>=0$$\n"
   ]
  },
  {
   "cell_type": "code",
   "execution_count": 13,
   "metadata": {},
   "outputs": [
    {
     "data": {
      "text/plain": [
       "True"
      ]
     },
     "execution_count": 13,
     "metadata": {},
     "output_type": "execute_result"
    }
   ],
   "source": [
    "def intersection(xa,xb,x1,x2,ya,yb,y1,y2):\n",
    "  \n",
    "    M=np.array([[xb-xa,x1-x2],[yb-ya,y1-y2]])\n",
    "    if np.linalg.det(M)==0:\n",
    "        return False\n",
    "    else:\n",
    "        M_inv=np.linalg.inv(M)\n",
    "        Z=np.array([x1-xa,y1-ya])\n",
    "        t1,t2=np.dot(M_inv,Z)\n",
    "        if 0<=t1<=1 and 0<=t2<=1:\n",
    "            return True\n",
    "        else:\n",
    "            return False\n",
    "\n",
    "intersection(0,1,1,0,0,1,0,1)"
   ]
  },
  {
   "cell_type": "markdown",
   "metadata": {},
   "source": [
    "Question 5)\n",
    "\n",
    "Notons $P_{1}=(x_{1},y_{1})$  $P_{2}=(x_{2},y_{2})$\n",
    "      \n",
    "$u_{1}=(u_{11},u_{12})$     $u_{2}=(u_{21},u_{22})$\n",
    "       \n",
    " et $ \\lambda$, $\\mu$ des réels strictements positifs\n",
    " \n",
    " Nous disposons des équations suivantes:\n",
    " \n",
    " $\\gamma(0)=(a,b)=(x_{1},y_{1})$\n",
    " \n",
    " $\\gamma(1)=(a+b+c,d+e+f)=(x_{2},y_{2})$\n",
    " \n",
    " $\\gamma'(0)=(b,e)=\\lambda(u_{11},u_{12})$\n",
    " \n",
    " $\\gamma'(1)=(b+2c,e+2f)=\\mu(u_{21},u_{22})$\n",
    " \n",
    " Les solutions de ce système sont:\n",
    " \n",
    " $a=x_{1}$\n",
    " \n",
    " $b=y_{1}$\n",
    " \n",
    " $c=x_{2}-x_{1}-y_{1}$\n",
    " \n",
    " $d=y_{2}-\\frac{1}{2}(\\mu u_{22} +\\lambda u_{12})$\n",
    " \n",
    " $e=\\lambda u_{12}$\n",
    " \n",
    " $f=\\frac{1}{2}(\\mu u_{22} -\\lambda u_{12})$\n",
    " \n",
    " Avec:\n",
    " \n",
    " $\\lambda u_{11}=y_{1}$\n",
    " \n",
    " $\\mu u_{21}=2(x_{2}-x_{1})-y_{1}$\n",
    " \n",
    " Condition d'existence de la solution:\n",
    " \n",
    " $u_{11} y_{1}=0$  ou $y_{1}u_{11}>0$\n",
    "\n",
    "et\n",
    "\n",
    "$u_{21}=-y_{1}+2(x_{2}-x_{1})=0$  ou $(-y_{1}+2(x_{2}-x_{1}))u_{21}>0$"
   ]
  },
  {
   "cell_type": "code",
   "execution_count": null,
   "metadata": {},
   "outputs": [],
   "source": [
    "def gamma(t,P1,P2,u1,u2):\n",
    "    lambd=P1[1]/u1[0]\n",
    "    mu=(2*(P2[0]-P1[0])-P1[1])/u2[0]\n",
    "    a,b=P1[0],P1[1]\n",
    "    c=P2[0]-P1[0]-P1[1]\n",
    "    d=P2[1]-0.5*(u2[1]*mu + lambd*u1[1])\n",
    "    e=lambd*u1[1]\n",
    "    f=0.5*(mu*u2[1]-lambd*u1[1])\n",
    "    return (a+t*b + c*t**2,d+e*t+f*t**2)\n"
   ]
  },
  {
   "cell_type": "code",
   "execution_count": null,
   "metadata": {},
   "outputs": [],
   "source": []
  }
 ],
 "metadata": {
  "kernelspec": {
   "display_name": "Python 3",
   "language": "python",
   "name": "python3"
  },
  "language_info": {
   "codemirror_mode": {
    "name": "ipython",
    "version": 3
   },
   "file_extension": ".py",
   "mimetype": "text/x-python",
   "name": "python",
   "nbconvert_exporter": "python",
   "pygments_lexer": "ipython3",
   "version": "3.8.3"
  }
 },
 "nbformat": 4,
 "nbformat_minor": 4
}
